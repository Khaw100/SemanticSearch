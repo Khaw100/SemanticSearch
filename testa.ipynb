{
 "cells": [
  {
   "cell_type": "code",
   "execution_count": 1,
   "metadata": {},
   "outputs": [],
   "source": [
    "import pandas as pd\n",
    "\n",
    "df = pd.read_csv(\"Data\\courses_dataset.csv\")"
   ]
  },
  {
   "cell_type": "code",
   "execution_count": 2,
   "metadata": {},
   "outputs": [
    {
     "data": {
      "text/plain": [
       "Index(['Unnamed: 0', 'course_id', 'url', 'title', 'translated_title',\n",
       "       'is_paid', 'instructors', 'translated_instructors', 'image_480x270',\n",
       "       'published_title', 'headline', 'translated_headline', 'num_subscribers',\n",
       "       'avg_rating', 'avg_rating_recent', 'rating', 'num_reviews',\n",
       "       'num_published_lectures', 'num_published_practice_tests',\n",
       "       'has_closed_caption', 'created_at', 'instructional_level',\n",
       "       'published_at', 'objectives_summary', 'translated_objectives_summary',\n",
       "       'is_recently_published', 'last_update_date', 'content_info', 'category',\n",
       "       'char_count'],\n",
       "      dtype='object')"
      ]
     },
     "execution_count": 2,
     "metadata": {},
     "output_type": "execute_result"
    }
   ],
   "source": [
    "df.columns"
   ]
  },
  {
   "cell_type": "code",
   "execution_count": 3,
   "metadata": {},
   "outputs": [
    {
     "data": {
      "text/plain": [
       "array(['personal_development', 'teaching', 'lifestyle', 'design',\n",
       "       'marketting', 'productivity', 'software', 'business', 'music',\n",
       "       'finance', 'health_fitness', 'development', 'photography'],\n",
       "      dtype=object)"
      ]
     },
     "execution_count": 3,
     "metadata": {},
     "output_type": "execute_result"
    }
   ],
   "source": [
    "df['category'].unique()"
   ]
  },
  {
   "cell_type": "code",
   "execution_count": null,
   "metadata": {},
   "outputs": [],
   "source": []
  }
 ],
 "metadata": {
  "kernelspec": {
   "display_name": "Python 3",
   "language": "python",
   "name": "python3"
  },
  "language_info": {
   "codemirror_mode": {
    "name": "ipython",
    "version": 3
   },
   "file_extension": ".py",
   "mimetype": "text/x-python",
   "name": "python",
   "nbconvert_exporter": "python",
   "pygments_lexer": "ipython3",
   "version": "3.10.5"
  }
 },
 "nbformat": 4,
 "nbformat_minor": 2
}
